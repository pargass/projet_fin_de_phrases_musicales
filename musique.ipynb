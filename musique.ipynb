{
 "cells": [
  {
   "cell_type": "code",
   "execution_count": 2,
   "metadata": {},
   "outputs": [],
   "source": [
    "# !pip install MTCFeatures"
   ]
  },
  {
   "cell_type": "code",
   "execution_count": 3,
   "metadata": {},
   "outputs": [],
   "source": [
    "import MTCFeatures\n",
    "from MTCFeatures import MTCFeatureLoader\n",
    "import pandas as pd"
   ]
  },
  {
   "cell_type": "code",
   "execution_count": 4,
   "metadata": {},
   "outputs": [],
   "source": [
    "# MTCFeatures.downloadData(dest='user')"
   ]
  },
  {
   "cell_type": "code",
   "execution_count": 5,
   "metadata": {},
   "outputs": [],
   "source": [
    "fl = MTCFeatureLoader('MTC-FS-INST-2.0')\n",
    "seqs = fl.sequences()"
   ]
  },
  {
   "cell_type": "code",
   "execution_count": null,
   "metadata": {},
   "outputs": [],
   "source": []
  },
  {
   "cell_type": "code",
   "execution_count": 6,
   "metadata": {},
   "outputs": [
    {
     "ename": "EOFError",
     "evalue": "Compressed file ended before the end-of-stream marker was reached",
     "output_type": "error",
     "traceback": [
      "\u001b[0;31m---------------------------------------------------------------------------\u001b[0m",
      "\u001b[0;31mEOFError\u001b[0m                                  Traceback (most recent call last)",
      "File \u001b[0;32m<timed exec>:2\u001b[0m\n",
      "File \u001b[0;32m~/.local/lib/python3.10/site-packages/MTCFeatures/MTCFeatureLoader.py:259\u001b[0m, in \u001b[0;36mMTCFeatureLoader.sequences\u001b[0;34m(self)\u001b[0m\n\u001b[1;32m    257\u001b[0m     opener \u001b[38;5;241m=\u001b[39m \u001b[38;5;28mopen\u001b[39m\n\u001b[1;32m    258\u001b[0m \u001b[38;5;28;01mwith\u001b[39;00m opener(\u001b[38;5;28mself\u001b[39m\u001b[38;5;241m.\u001b[39mjsonpath, \u001b[38;5;124m\"\u001b[39m\u001b[38;5;124mr\u001b[39m\u001b[38;5;124m\"\u001b[39m) \u001b[38;5;28;01mas\u001b[39;00m f:\n\u001b[0;32m--> 259\u001b[0m     \u001b[38;5;28;01mfor\u001b[39;00m line \u001b[38;5;129;01min\u001b[39;00m f:\n\u001b[1;32m    260\u001b[0m         \u001b[38;5;28;01myield\u001b[39;00m json\u001b[38;5;241m.\u001b[39mloads(line)\n",
      "File \u001b[0;32m/usr/lib/python3.10/gzip.py:399\u001b[0m, in \u001b[0;36mGzipFile.readline\u001b[0;34m(self, size)\u001b[0m\n\u001b[1;32m    397\u001b[0m \u001b[38;5;28;01mdef\u001b[39;00m \u001b[38;5;21mreadline\u001b[39m(\u001b[38;5;28mself\u001b[39m, size\u001b[38;5;241m=\u001b[39m\u001b[38;5;241m-\u001b[39m\u001b[38;5;241m1\u001b[39m):\n\u001b[1;32m    398\u001b[0m     \u001b[38;5;28mself\u001b[39m\u001b[38;5;241m.\u001b[39m_check_not_closed()\n\u001b[0;32m--> 399\u001b[0m     \u001b[38;5;28;01mreturn\u001b[39;00m \u001b[38;5;28;43mself\u001b[39;49m\u001b[38;5;241;43m.\u001b[39;49m\u001b[43m_buffer\u001b[49m\u001b[38;5;241;43m.\u001b[39;49m\u001b[43mreadline\u001b[49m\u001b[43m(\u001b[49m\u001b[43msize\u001b[49m\u001b[43m)\u001b[49m\n",
      "File \u001b[0;32m/usr/lib/python3.10/_compression.py:68\u001b[0m, in \u001b[0;36mDecompressReader.readinto\u001b[0;34m(self, b)\u001b[0m\n\u001b[1;32m     66\u001b[0m \u001b[38;5;28;01mdef\u001b[39;00m \u001b[38;5;21mreadinto\u001b[39m(\u001b[38;5;28mself\u001b[39m, b):\n\u001b[1;32m     67\u001b[0m     \u001b[38;5;28;01mwith\u001b[39;00m \u001b[38;5;28mmemoryview\u001b[39m(b) \u001b[38;5;28;01mas\u001b[39;00m view, view\u001b[38;5;241m.\u001b[39mcast(\u001b[38;5;124m\"\u001b[39m\u001b[38;5;124mB\u001b[39m\u001b[38;5;124m\"\u001b[39m) \u001b[38;5;28;01mas\u001b[39;00m byte_view:\n\u001b[0;32m---> 68\u001b[0m         data \u001b[38;5;241m=\u001b[39m \u001b[38;5;28;43mself\u001b[39;49m\u001b[38;5;241;43m.\u001b[39;49m\u001b[43mread\u001b[49m\u001b[43m(\u001b[49m\u001b[38;5;28;43mlen\u001b[39;49m\u001b[43m(\u001b[49m\u001b[43mbyte_view\u001b[49m\u001b[43m)\u001b[49m\u001b[43m)\u001b[49m\n\u001b[1;32m     69\u001b[0m         byte_view[:\u001b[38;5;28mlen\u001b[39m(data)] \u001b[38;5;241m=\u001b[39m data\n\u001b[1;32m     70\u001b[0m     \u001b[38;5;28;01mreturn\u001b[39;00m \u001b[38;5;28mlen\u001b[39m(data)\n",
      "File \u001b[0;32m/usr/lib/python3.10/gzip.py:507\u001b[0m, in \u001b[0;36m_GzipReader.read\u001b[0;34m(self, size)\u001b[0m\n\u001b[1;32m    505\u001b[0m         \u001b[38;5;28;01mbreak\u001b[39;00m\n\u001b[1;32m    506\u001b[0m     \u001b[38;5;28;01mif\u001b[39;00m buf \u001b[38;5;241m==\u001b[39m \u001b[38;5;124mb\u001b[39m\u001b[38;5;124m\"\u001b[39m\u001b[38;5;124m\"\u001b[39m:\n\u001b[0;32m--> 507\u001b[0m         \u001b[38;5;28;01mraise\u001b[39;00m \u001b[38;5;167;01mEOFError\u001b[39;00m(\u001b[38;5;124m\"\u001b[39m\u001b[38;5;124mCompressed file ended before the \u001b[39m\u001b[38;5;124m\"\u001b[39m\n\u001b[1;32m    508\u001b[0m                        \u001b[38;5;124m\"\u001b[39m\u001b[38;5;124mend-of-stream marker was reached\u001b[39m\u001b[38;5;124m\"\u001b[39m)\n\u001b[1;32m    510\u001b[0m \u001b[38;5;28mself\u001b[39m\u001b[38;5;241m.\u001b[39m_add_read_data( uncompress )\n\u001b[1;32m    511\u001b[0m \u001b[38;5;28mself\u001b[39m\u001b[38;5;241m.\u001b[39m_pos \u001b[38;5;241m+\u001b[39m\u001b[38;5;241m=\u001b[39m \u001b[38;5;28mlen\u001b[39m(uncompress)\n",
      "\u001b[0;31mEOFError\u001b[0m: Compressed file ended before the end-of-stream marker was reached"
     ]
    }
   ],
   "source": [
    "%%time\n",
    "phrase_data = []\n",
    "for ii, x in enumerate(seqs):\n",
    "    phrase_data.append({\n",
    "        'id': x['id'],\n",
    "        **x['features']\n",
    "    })"
   ]
  },
  {
   "cell_type": "code",
   "execution_count": 7,
   "metadata": {},
   "outputs": [
    {
     "data": {
      "text/plain": [
       "(13492, 62)"
      ]
     },
     "execution_count": 7,
     "metadata": {},
     "output_type": "execute_result"
    }
   ],
   "source": [
    "df_phrase = pd.DataFrame(phrase_data)\n",
    "df_phrase.shape # (13492, 62)"
   ]
  },
  {
   "cell_type": "code",
   "execution_count": 8,
   "metadata": {},
   "outputs": [],
   "source": [
    "import numpy as np"
   ]
  },
  {
   "cell_type": "code",
   "execution_count": 9,
   "metadata": {},
   "outputs": [
    {
     "name": "stdout",
     "output_type": "stream",
     "text": [
      "(44,)\n",
      "(44,)\n",
      "(44,)\n",
      "['E4', 'C4', 'A3', 'G3', 'C4', 'C4', 'D4', 'C4', 'D4', 'E4', 'A3', 'G3', 'G3', 'F#3', 'G3', 'A3', 'F4', 'E4', 'D4', 'E4', 'D4', 'G3', 'D4', 'E4', 'D4', 'C4', 'A3', 'G3', 'E4', 'F4', 'E4', 'A3', 'E4', 'D4', 'G3', 'A3', 'G3', 'G3', 'F4', 'E4', 'D4', 'A3', 'B3', 'C4']\n",
      "[1.0, 0.5, 0.5, 0.75, 0.25, 1.0, 1.0, 0.5, 0.5, 0.5, 0.5, 1.0, 1.0, 0.5, 0.5, 0.5, 0.5, 1.0, 1.0, 0.5, 0.5, 1.0, 1.0, 0.5, 0.5, 0.5, 0.5, 1.0, 1.0, 0.5, 0.5, 0.5, 0.5, 1.0, 1.0, 0.5, 0.5, 0.5, 0.5, 1.0, 1.0, 0.5, 0.5, 1.5]\n",
      "[False, False, False, False, False, False, False, False, False, False, False, True, False, False, False, False, False, False, False, False, False, True, False, False, False, False, False, False, False, False, False, False, False, True, False, False, False, False, False, False, False, False, False, True]\n",
      "4\n",
      "[1.0, 2.0, 2.5, 1.0, 1.75, 2.0, 1.0, 2.0, 2.5, 1.0, 1.5, 2.0, 1.0, 2.0, 2.5, 1.0, 1.5, 2.0, 1.0, 2.0, 2.5, 1.0, 1.0, 2.0, 2.5, 1.0, 1.5, 2.0, 1.0, 2.0, 2.5, 1.0, 1.5, 2.0, 1.0, 2.0, 2.5, 1.0, 1.5, 2.0, 1.0, 2.0, 2.5, 1.0]\n",
      "['0', '0', '1/2', '0', '3/4', '0', '0', '0', '1/2', '0', '1/2', '0', '0', '0', '1/2', '0', '1/2', '0', '0', '0', '1/2', '0', '0', '0', '1/2', '0', '1/2', '0', '0', '0', '1/2', '0', '1/2', '0', '0', '0', '1/2', '0', '1/2', '0', '0', '0', '1/2', '0']\n"
     ]
    }
   ],
   "source": [
    "# Chaque ligne du set représente une mélodie, représentée par des features.\n",
    "\n",
    "print(np.array(df_phrase['pitch'][0]).shape) # pitch représente la hauteur des notes\n",
    "print(np.array(df_phrase['duration'][0]).shape) # duration représente la durée des notes\n",
    "print(np.array(df_phrase['phrase_end'][0]).shape) # phrase_end dit si la note est la dernière de la phrase\n",
    "\n",
    "print(df_phrase['pitch'][0])\n",
    "print(df_phrase['duration'][0])\n",
    "print(df_phrase['phrase_end'][0])\n",
    "# On peut donc voir que chacun de ses 3 features est une liste de la même longueur que le nombre de notes dans la mélodie.\n",
    "\n",
    "# combien de fin de phrase dans le premier exemple ?\n",
    "\n",
    "print(np.sum(df_phrase['phrase_end'][0])) # 4\n",
    "\n",
    "# On pense découpere les séquences en sous séquences par notes avec un nombre fixe de notes par sous séquence. On pourra tester de diviser les séquences en sous séquences de nombre \n",
    "# fixe de note pour toutes les séquences ou bien de diviser les séquences par un nombre fixe pour toutes les séquences.\n",
    "\n",
    "print(df_phrase['beat'][0]) # beat représente le temps de la note dans la mesure\n",
    "\n",
    "# On peut aussi faire des sous séquences basées sur les mesures pour éviter de couper une mesure en deux.\n",
    "\n",
    "print(df_phrase['beat_fraction_str'][0]) # beat_fraction_str représente le temps de la note dans la mesure sous forme de fraction\n"
   ]
  },
  {
   "cell_type": "code",
   "execution_count": 10,
   "metadata": {},
   "outputs": [],
   "source": [
    "# print(df_phrase.describe()) # Pas utile pour les features qui sont des listes et trop long"
   ]
  },
  {
   "cell_type": "code",
   "execution_count": 11,
   "metadata": {},
   "outputs": [
    {
     "name": "stdout",
     "output_type": "stream",
     "text": [
      "<class 'pandas.core.frame.DataFrame'>\n",
      "RangeIndex: 13492 entries, 0 to 13491\n",
      "Data columns (total 62 columns):\n",
      " #   Column                 Non-Null Count  Dtype \n",
      "---  ------                 --------------  ----- \n",
      " 0   id                     13492 non-null  object\n",
      " 1   scaledegree            13492 non-null  object\n",
      " 2   scaledegreespecifier   13492 non-null  object\n",
      " 3   tonic                  13492 non-null  object\n",
      " 4   mode                   13492 non-null  object\n",
      " 5   metriccontour          13492 non-null  object\n",
      " 6   imaweight              13492 non-null  object\n",
      " 7   pitch40                13492 non-null  object\n",
      " 8   midipitch              13492 non-null  object\n",
      " 9   diatonicpitch          13492 non-null  object\n",
      " 10  diatonicinterval       13492 non-null  object\n",
      " 11  chromaticinterval      13492 non-null  object\n",
      " 12  pitchproximity         13492 non-null  object\n",
      " 13  pitchreversal          13492 non-null  object\n",
      " 14  nextisrest             13492 non-null  object\n",
      " 15  restduration_frac      13492 non-null  object\n",
      " 16  duration               13492 non-null  object\n",
      " 17  duration_frac          13492 non-null  object\n",
      " 18  duration_fullname      13492 non-null  object\n",
      " 19  onsettick              13492 non-null  object\n",
      " 20  beatfraction           13492 non-null  object\n",
      " 21  phrasepos              13492 non-null  object\n",
      " 22  phrase_ix              13492 non-null  object\n",
      " 23  phrase_end             13492 non-null  object\n",
      " 24  songpos                13492 non-null  object\n",
      " 25  beatinsong             13492 non-null  object\n",
      " 26  beatinphrase           13492 non-null  object\n",
      " 27  beatinphrase_end       13492 non-null  object\n",
      " 28  IOI_frac               13492 non-null  object\n",
      " 29  IOI                    13492 non-null  object\n",
      " 30  IOR                    13492 non-null  object\n",
      " 31  imacontour             13492 non-null  object\n",
      " 32  pitch                  13492 non-null  object\n",
      " 33  contour3               13492 non-null  object\n",
      " 34  contour5               13492 non-null  object\n",
      " 35  beatstrength           13492 non-null  object\n",
      " 36  beat_str               13492 non-null  object\n",
      " 37  beat_fraction_str      13492 non-null  object\n",
      " 38  beat                   13492 non-null  object\n",
      " 39  timesignature          13492 non-null  object\n",
      " 40  gpr2a_Frankland        13492 non-null  object\n",
      " 41  gpr2b_Frankland        13492 non-null  object\n",
      " 42  gpr3a_Frankland        13492 non-null  object\n",
      " 43  gpr3d_Frankland        13492 non-null  object\n",
      " 44  gpr_Frankland_sum      13492 non-null  object\n",
      " 45  lbdm_spitch            13492 non-null  object\n",
      " 46  lbdm_sioi              13492 non-null  object\n",
      " 47  lbdm_srest             13492 non-null  object\n",
      " 48  lbdm_rpitch            13492 non-null  object\n",
      " 49  lbdm_rioi              13492 non-null  object\n",
      " 50  lbdm_rrest             13492 non-null  object\n",
      " 51  lbdm_boundarystrength  13492 non-null  object\n",
      " 52  durationcontour        13492 non-null  object\n",
      " 53  IOR_frac               13492 non-null  object\n",
      " 54  lyrics                 7302 non-null   object\n",
      " 55  noncontentword         7302 non-null   object\n",
      " 56  wordend                7302 non-null   object\n",
      " 57  phoneme                7302 non-null   object\n",
      " 58  rhymes                 7302 non-null   object\n",
      " 59  rhymescontentwords     7302 non-null   object\n",
      " 60  wordstress             7302 non-null   object\n",
      " 61  melismastate           7302 non-null   object\n",
      "dtypes: object(62)\n",
      "memory usage: 6.4+ MB\n"
     ]
    }
   ],
   "source": [
    "df_phrase.info() # 7302 sequences avec paroles"
   ]
  },
  {
   "cell_type": "code",
   "execution_count": 12,
   "metadata": {},
   "outputs": [
    {
     "name": "stdout",
     "output_type": "stream",
     "text": [
      "id <class 'str'>\n",
      "lyrics <class 'float'>\n",
      "noncontentword <class 'float'>\n",
      "wordend <class 'float'>\n",
      "phoneme <class 'float'>\n",
      "rhymes <class 'float'>\n",
      "rhymescontentwords <class 'float'>\n",
      "wordstress <class 'float'>\n",
      "melismastate <class 'float'>\n"
     ]
    }
   ],
   "source": [
    "for col in df_phrase.columns:\n",
    "    t = type(df_phrase[col][0])\n",
    "    if t != list:\n",
    "        print(col, t)"
   ]
  },
  {
   "cell_type": "markdown",
   "metadata": {},
   "source": [
    "7302 séquences avec des paroles"
   ]
  },
  {
   "cell_type": "code",
   "execution_count": 13,
   "metadata": {},
   "outputs": [],
   "source": [
    "from tqdm import tqdm"
   ]
  },
  {
   "cell_type": "code",
   "execution_count": 14,
   "metadata": {},
   "outputs": [],
   "source": [
    "def generate_subsequences(sequence, length=8):\n",
    "    \"\"\"Découpe une liste en sous-séquences de longueur donnée en ignorant les derniers éléments s'il n'y a pas assez d'éléments\"\"\"\n",
    "    if len(sequence) < length:\n",
    "        return []\n",
    "    return [sequence[i:i + length] for i in range(len(sequence) - length + 1)]\n"
   ]
  },
  {
   "cell_type": "code",
   "execution_count": 87,
   "metadata": {},
   "outputs": [
    {
     "name": "stdout",
     "output_type": "stream",
     "text": [
      "[69, 78, 69, 78, 69, 83, 81, 80, 81, 69, 79, 78, 75, 76, 69, 78, 76, 73, 74, 69, 78, 69, 78, 69, 83, 81, 80, 81, 69, 79, 78, 75, 76, 69, 78, 76, 74, 62, 67, 69, 71, 72, 74, 76, 78, 79, 78, 76, 74, 78, 69, 69, 71, 72, 76, 71, 74, 69, 71, 74, 76, 71, 74, 69, 71, 72, 71, 69, 71, 69, 71, 67, 74, 83, 81, 83, 81, 81, 79, 78, 76, 79, 78, 76, 74, 78, 69, 69, 71, 72, 76, 71, 74, 69, 71, 72, 76, 71, 74, 69, 71, 72, 71, 69, 71, 67, 71, 74, 79, 79]\n",
      "['A4', 'F#5', 'A4', 'F#5', 'A4', 'B5', 'A5', 'G#5', 'A5', 'A4', 'G5', 'F#5', 'D#5', 'E5', 'A4', 'F#5', 'E5', 'C#5', 'D5', 'A4', 'F#5', 'A4', 'F#5', 'A4', 'B5', 'A5', 'G#5', 'A5', 'A4', 'G5', 'F#5', 'D#5', 'E5', 'A4', 'F#5', 'E5', 'D5', 'D4', 'G4', 'A4', 'B4', 'C5', 'D5', 'E5', 'F#5', 'G5', 'F#5', 'E5', 'D5', 'F#5', 'A4', 'A4', 'B4', 'C5', 'E5', 'B4', 'D5', 'A4', 'B4', 'D5', 'E5', 'B4', 'D5', 'A4', 'B4', 'C5', 'B4', 'A4', 'B4', 'A4', 'B4', 'G4', 'D5', 'B5', 'A5', 'B5', 'A5', 'A5', 'G5', 'F#5', 'E5', 'G5', 'F#5', 'E5', 'D5', 'F#5', 'A4', 'A4', 'B4', 'C5', 'E5', 'B4', 'D5', 'A4', 'B4', 'C5', 'E5', 'B4', 'D5', 'A4', 'B4', 'C5', 'B4', 'A4', 'B4', 'G4', 'B4', 'D5', 'G5', 'G5']\n",
      "[152, 181, 152, 181, 152, 198, 192, 187, 192, 152, 186, 181, 170, 175, 152, 181, 175, 164, 169, 152, 181, 152, 181, 152, 198, 192, 187, 192, 152, 186, 181, 170, 175, 152, 181, 175, 169, 129, 146, 152, 158, 163, 169, 175, 181, 186, 181, 175, 169, 181, 152, 152, 158, 163, 175, 158, 169, 152, 158, 169, 175, 158, 169, 152, 158, 163, 158, 152, 158, 152, 158, 146, 169, 198, 192, 198, 192, 192, 186, 181, 175, 186, 181, 175, 169, 181, 152, 152, 158, 163, 175, 158, 169, 152, 158, 163, 175, 158, 169, 152, 158, 163, 158, 152, 158, 146, 158, 169, 186, 186]\n",
      "[32, 37, 32, 37, 32, 40, 39, 38, 39, 32, 38, 37, 35, 36, 32, 37, 36, 34, 35, 32, 37, 32, 37, 32, 40, 39, 38, 39, 32, 38, 37, 35, 36, 32, 37, 36, 35, 28, 31, 32, 33, 34, 35, 36, 37, 38, 37, 36, 35, 37, 32, 32, 33, 34, 36, 33, 35, 32, 33, 35, 36, 33, 35, 32, 33, 34, 33, 32, 33, 32, 33, 31, 35, 40, 39, 40, 39, 39, 38, 37, 36, 38, 37, 36, 35, 37, 32, 32, 33, 34, 36, 33, 35, 32, 33, 34, 36, 33, 35, 32, 33, 34, 33, 32, 33, 31, 33, 35, 38, 38]\n",
      "[5, 3, 5, 3, 5, 6, 5, 4, 5, 5, 4, 3, 1, 2, 5, 3, 2, 7, 1, 5, 3, 5, 3, 5, 6, 5, 4, 5, 5, 4, 3, 1, 2, 5, 3, 2, 1, 1, 4, 5, 6, 7, 1, 2, 3, 4, 3, 2, 1, 3, 5, 5, 6, 7, 2, 6, 1, 5, 6, 1, 2, 6, 1, 5, 6, 7, 6, 5, 6, 5, 6, 4, 1, 6, 5, 6, 5, 5, 4, 3, 2, 4, 3, 2, 1, 3, 5, 5, 6, 7, 2, 6, 1, 5, 6, 7, 2, 6, 1, 5, 6, 7, 6, 5, 6, 4, 6, 1, 4, 4]\n",
      "['3/4', '3/4', '3/4', '3/4', '3/4', '3/4', '3/4', '3/4', '3/4', '3/4', '3/4', '3/4', '3/4', '3/4', '3/4', '3/4', '3/4', '3/4', '3/4', '3/4', '3/4', '3/4', '3/4', '3/4', '3/4', '3/4', '3/4', '3/4', '3/4', '3/4', '3/4', '3/4', '3/4', '3/4', '3/4', '3/4', '3/4', '3/4', '3/4', '3/4', '3/4', '3/4', '3/4', '3/4', '3/4', '3/4', '3/4', '3/4', '3/4', '3/4', '3/4', '3/4', '3/4', '3/4', '3/4', '3/4', '3/4', '3/4', '3/4', '3/4', '3/4', '3/4', '3/4', '3/4', '3/4', '3/4', '3/4', '3/4', '3/4', '3/4', '3/4', '3/4', '3/4', '3/4', '3/4', '3/4', '3/4', '3/4', '3/4', '3/4', '3/4', '3/4', '3/4', '3/4', '3/4', '3/4', '3/4', '3/4', '3/4', '3/4', '3/4', '3/4', '3/4', '3/4', '3/4', '3/4', '3/4', '3/4', '3/4', '3/4', '3/4', '3/4', '3/4', '3/4', '3/4', '3/4', '3/4', '3/4', '3/4', '3/4']\n"
     ]
    }
   ],
   "source": [
    "i = 50\n",
    "j = 15\n",
    "\n",
    "print(df_phrase['midipitch'][i][:])\n",
    "print(df_phrase['pitch'][i][:])\n",
    "print(df_phrase['pitch40'][i][:])\n",
    "print(df_phrase['diatonicpitch'][i][:])\n",
    "\n",
    "print(df_phrase['scaledegree'][i][:])\n",
    "print(df_phrase['timesignature'][i][:])\n",
    "\n"
   ]
  },
  {
   "cell_type": "markdown",
   "metadata": {},
   "source": [
    "on remarque qu'il y a des features qui sont équivalentes comme le `pitch` et le `midipitch`. Ce dernier n'est qu'une représentation du premier en midi, c'est-à-dire en entier. On pourra donc omettre le pitch et ne garder que le midipitch car il est plus simple à manipuler.\n",
    "\n",
    "on a C5 = 72 et C#5 = 73 car c'est la note juste après C5\n",
    "\n",
    "On doit chercher toutes les features qui sont corrélées pour ne pas utiliser des features inutiles"
   ]
  },
  {
   "cell_type": "code",
   "execution_count": null,
   "metadata": {},
   "outputs": [],
   "source": []
  },
  {
   "cell_type": "markdown",
   "metadata": {},
   "source": [
    "[`pitch`, `midipitch`, `pitch40`, `diatonicpitch`] -> `midipitch` : hauteur de la note\n",
    "\n",
    "[`contour3`, `contour5`, `diatonicinterval`, `chromaticinterval`] -> `chromaticinterval` : variation par rapport à la note précédente\n",
    "\n",
    "[`tonic`] -> `tonic`\n",
    "\n",
    "[`mode`] -> `mode`\n",
    "\n",
    "[`scaledegree`, `scaledegreespecifier`] -> `scaledegree` : peut-être les 2 ?\n",
    "\n",
    "[`timesignature`] -> `timesignature`\n",
    "\n",
    "\n",
    "\n",
    "\n"
   ]
  },
  {
   "cell_type": "code",
   "execution_count": 34,
   "metadata": {},
   "outputs": [],
   "source": []
  }
 ],
 "metadata": {
  "kernelspec": {
   "display_name": "Python 3",
   "language": "python",
   "name": "python3"
  },
  "language_info": {
   "codemirror_mode": {
    "name": "ipython",
    "version": 3
   },
   "file_extension": ".py",
   "mimetype": "text/x-python",
   "name": "python",
   "nbconvert_exporter": "python",
   "pygments_lexer": "ipython3",
   "version": "3.10.12"
  }
 },
 "nbformat": 4,
 "nbformat_minor": 2
}
